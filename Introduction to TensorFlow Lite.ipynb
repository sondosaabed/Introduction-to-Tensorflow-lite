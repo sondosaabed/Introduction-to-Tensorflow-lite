{
 "cells": [
  {
   "cell_type": "markdown",
   "metadata": {},
   "source": [
    "### TensorFlow Lite overview"
   ]
  },
  {
   "cell_type": "markdown",
   "metadata": {},
   "source": [
    "So TensorFlow Lite is basically a toolkit for running ML inference on device.\n",
    "So you can take an ML model,\n",
    "use the TensorFlow Lite converter to convert it to a form\n",
    "that will work really well on embedded or mobile devices,\n",
    "and then the TensorFlow Lite interpreter will run\n",
    "the model and run inference for you on devices."
   ]
  },
  {
   "cell_type": "markdown",
   "metadata": {},
   "source": [
    "Mobile:\n",
    "\n",
    "- Limited amount of resources\n",
    "- Battery, memory, power stirage."
   ]
  },
  {
   "cell_type": "markdown",
   "metadata": {},
   "source": [
    "Steps:\n",
    "\n",
    "- train our model\n",
    "- save our model\n",
    "- covert saved model into TFLite Faltbuffer using TFLite Converter.\n",
    "    - Flatbuffer: special serilaization format that is optimized for performance.\n",
    "- tflit extension\n",
    "- deploy the tflite into the client device.\n",
    "- we can run the modellocally using the tflite interpreter.\n",
    "\n",
    "![Alt text](explanation_images/deployment.png)"
   ]
  },
  {
   "cell_type": "code",
   "execution_count": null,
   "metadata": {},
   "outputs": [],
   "source": []
  }
 ],
 "metadata": {
  "language_info": {
   "name": "python"
  }
 },
 "nbformat": 4,
 "nbformat_minor": 2
}
