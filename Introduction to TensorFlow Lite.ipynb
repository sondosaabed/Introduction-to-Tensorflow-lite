{
 "cells": [
  {
   "cell_type": "markdown",
   "metadata": {},
   "source": [
    "### TensorFlow Lite overview"
   ]
  },
  {
   "cell_type": "markdown",
   "metadata": {},
   "source": [
    "So TensorFlow Lite is basically a toolkit for running ML inference on device.\n",
    "So you can take an ML model,\n",
    "use the TensorFlow Lite converter to convert it to a form\n",
    "that will work really well on embedded or mobile devices,\n",
    "and then the TensorFlow Lite interpreter will run\n",
    "the model and run inference for you on devices."
   ]
  },
  {
   "cell_type": "markdown",
   "metadata": {},
   "source": [
    "Mobile:\n",
    "\n",
    "- Limited amount of resources\n",
    "- Battery, memory, power stirage."
   ]
  },
  {
   "cell_type": "markdown",
   "metadata": {},
   "source": [
    "Steps:\n",
    "\n",
    "- train our model\n",
    "- save our model\n",
    "- covert saved model into TFLite Faltbuffer using TFLite Converter.\n",
    "    - Flatbuffer: special serilaization format that is optimized for performance.\n",
    "- tflit extension\n",
    "- deploy the tflite into the client device.\n",
    "- we can run the modellocally using the tflite interpreter.\n",
    "\n",
    "![Alt text](explanation_images/deployment.png)"
   ]
  },
  {
   "cell_type": "markdown",
   "metadata": {},
   "source": [
    "<b>Quantization</b>\n",
    "\n",
    "is an optimzation techniques for the challenge of limited resources. it's popular. it carries out in the tflite converter.\n",
    "\n",
    "- Reducing the precision or representation of our model.\n",
    "\n",
    "- Let's say all the weights and outputs by 32-bit float point.\n",
    "- We can quantize by coverting them to the nearest 8-bit.\n",
    "- We can do that without sacificing accuarcy.\n",
    "\n",
    "<b>Types:</b>\n",
    "- Quantization of where training: During training\n",
    "- Post-training Quantization: After training"
   ]
  },
  {
   "cell_type": "markdown",
   "metadata": {},
   "source": [
    "![Alt text](explanation_images/potTraining.png)\n",
    "\n",
    "- OPTIMIZE_FOR_LATENCY. This option optimizes your model for speed.\n",
    "- for size: optimizes only for weights.\n",
    "- hybrid: some operation in float percision, some in integer percision.\n",
    "- most sensetive will have higher percision hence the accuracy is not lowered.\n",
    "- deafult: weights & activation outputs."
   ]
  },
  {
   "cell_type": "markdown",
   "metadata": {},
   "source": [
    "![Alt text](optimization.jpg)"
   ]
  },
  {
   "cell_type": "markdown",
   "metadata": {},
   "source": [
    "quantization-aware training generally results in a model with higher accuracy because it makes the model more tolerant to lower precision values"
   ]
  },
  {
   "cell_type": "markdown",
   "metadata": {},
   "source": [
    "<b>TensorFlow lite Delegates</b>\n",
    "- Hardware accelators such as GPUs.\n",
    "- Tf lite provide GPUs delegate to be used for devices that have GPUs avaliable.\n",
    "![Alt text](explanation_images/delegate.png)"
   ]
  }
 ],
 "metadata": {
  "kernelspec": {
   "display_name": "Python 3",
   "language": "python",
   "name": "python3"
  },
  "language_info": {
   "codemirror_mode": {
    "name": "ipython",
    "version": 3
   },
   "file_extension": ".py",
   "mimetype": "text/x-python",
   "name": "python",
   "nbconvert_exporter": "python",
   "pygments_lexer": "ipython3",
   "version": "3.11.0"
  }
 },
 "nbformat": 4,
 "nbformat_minor": 2
}
