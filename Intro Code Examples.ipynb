{
 "cells": [
  {
   "cell_type": "code",
   "execution_count": 2,
   "metadata": {},
   "outputs": [],
   "source": [
    "import tensorflow as tf\n",
    "keras = tf.keras\n",
    "import pathlib\n",
    "import matplotlib.pyplot as plt\n",
    "import numpy as np"
   ]
  },
  {
   "cell_type": "code",
   "execution_count": 3,
   "metadata": {},
   "outputs": [],
   "source": [
    "x = [-1, 0, 1, 2, 3, 4]\n",
    "y = [-3,-1,1,3,5,7]"
   ]
  },
  {
   "cell_type": "code",
   "execution_count": 4,
   "metadata": {},
   "outputs": [],
   "source": [
    "model = keras.models.Sequential( [\n",
    "        keras.layers.Dense(units=1, input_shape =[1])\n",
    " ])"
   ]
  },
  {
   "cell_type": "code",
   "execution_count": 5,
   "metadata": {},
   "outputs": [],
   "source": [
    "model.compile(optimizer='sgd', loss='mean_squared_error')"
   ]
  },
  {
   "cell_type": "code",
   "execution_count": 6,
   "metadata": {},
   "outputs": [
    {
     "name": "stdout",
     "output_type": "stream",
     "text": [
      "Epoch 1/100\n",
      "1/1 [==============================] - 2s 2s/step - loss: 22.8920\n",
      "Epoch 2/100\n",
      "1/1 [==============================] - 0s 25ms/step - loss: 18.2907\n",
      "Epoch 3/100\n",
      "1/1 [==============================] - 0s 24ms/step - loss: 14.6649\n",
      "Epoch 4/100\n",
      "1/1 [==============================] - 0s 9ms/step - loss: 11.8067\n",
      "Epoch 5/100\n",
      "1/1 [==============================] - 0s 11ms/step - loss: 9.5524\n",
      "Epoch 6/100\n",
      "1/1 [==============================] - 0s 14ms/step - loss: 7.7734\n",
      "Epoch 7/100\n",
      "1/1 [==============================] - 0s 10ms/step - loss: 6.3685\n",
      "Epoch 8/100\n",
      "1/1 [==============================] - 0s 14ms/step - loss: 5.2580\n",
      "Epoch 9/100\n",
      "1/1 [==============================] - 0s 10ms/step - loss: 4.3793\n",
      "Epoch 10/100\n",
      "1/1 [==============================] - 0s 15ms/step - loss: 3.6829\n",
      "Epoch 11/100\n",
      "1/1 [==============================] - 0s 16ms/step - loss: 3.1302\n",
      "Epoch 12/100\n",
      "1/1 [==============================] - 0s 16ms/step - loss: 2.6905\n",
      "Epoch 13/100\n",
      "1/1 [==============================] - 0s 17ms/step - loss: 2.3399\n",
      "Epoch 14/100\n",
      "1/1 [==============================] - 0s 14ms/step - loss: 2.0595\n",
      "Epoch 15/100\n",
      "1/1 [==============================] - 0s 15ms/step - loss: 1.8344\n",
      "Epoch 16/100\n",
      "1/1 [==============================] - 0s 16ms/step - loss: 1.6530\n",
      "Epoch 17/100\n",
      "1/1 [==============================] - 0s 129ms/step - loss: 1.5059\n",
      "Epoch 18/100\n",
      "1/1 [==============================] - 0s 13ms/step - loss: 1.3859\n",
      "Epoch 19/100\n",
      "1/1 [==============================] - 0s 12ms/step - loss: 1.2874\n",
      "Epoch 20/100\n",
      "1/1 [==============================] - 0s 11ms/step - loss: 1.2059\n",
      "Epoch 21/100\n",
      "1/1 [==============================] - 0s 11ms/step - loss: 1.1377\n",
      "Epoch 22/100\n",
      "1/1 [==============================] - 0s 11ms/step - loss: 1.0803\n",
      "Epoch 23/100\n",
      "1/1 [==============================] - 0s 16ms/step - loss: 1.0313\n",
      "Epoch 24/100\n",
      "1/1 [==============================] - 0s 18ms/step - loss: 0.9890\n",
      "Epoch 25/100\n",
      "1/1 [==============================] - 0s 12ms/step - loss: 0.9520\n",
      "Epoch 26/100\n",
      "1/1 [==============================] - 0s 13ms/step - loss: 0.9194\n",
      "Epoch 27/100\n",
      "1/1 [==============================] - 0s 17ms/step - loss: 0.8902\n",
      "Epoch 28/100\n",
      "1/1 [==============================] - 0s 11ms/step - loss: 0.8639\n",
      "Epoch 29/100\n",
      "1/1 [==============================] - 0s 14ms/step - loss: 0.8398\n",
      "Epoch 30/100\n",
      "1/1 [==============================] - 0s 14ms/step - loss: 0.8175\n",
      "Epoch 31/100\n",
      "1/1 [==============================] - 0s 14ms/step - loss: 0.7968\n",
      "Epoch 32/100\n",
      "1/1 [==============================] - 0s 13ms/step - loss: 0.7773\n",
      "Epoch 33/100\n",
      "1/1 [==============================] - 0s 12ms/step - loss: 0.7589\n",
      "Epoch 34/100\n",
      "1/1 [==============================] - 0s 13ms/step - loss: 0.7414\n",
      "Epoch 35/100\n",
      "1/1 [==============================] - 0s 10ms/step - loss: 0.7247\n",
      "Epoch 36/100\n",
      "1/1 [==============================] - 0s 16ms/step - loss: 0.7086\n",
      "Epoch 37/100\n",
      "1/1 [==============================] - 0s 19ms/step - loss: 0.6931\n",
      "Epoch 38/100\n",
      "1/1 [==============================] - 0s 11ms/step - loss: 0.6781\n",
      "Epoch 39/100\n",
      "1/1 [==============================] - 0s 10ms/step - loss: 0.6636\n",
      "Epoch 40/100\n",
      "1/1 [==============================] - 0s 14ms/step - loss: 0.6495\n",
      "Epoch 41/100\n",
      "1/1 [==============================] - 0s 18ms/step - loss: 0.6358\n",
      "Epoch 42/100\n",
      "1/1 [==============================] - 0s 16ms/step - loss: 0.6225\n",
      "Epoch 43/100\n",
      "1/1 [==============================] - 0s 25ms/step - loss: 0.6095\n",
      "Epoch 44/100\n",
      "1/1 [==============================] - 0s 24ms/step - loss: 0.5968\n",
      "Epoch 45/100\n",
      "1/1 [==============================] - 0s 24ms/step - loss: 0.5844\n",
      "Epoch 46/100\n",
      "1/1 [==============================] - 0s 14ms/step - loss: 0.5723\n",
      "Epoch 47/100\n",
      "1/1 [==============================] - 0s 24ms/step - loss: 0.5604\n",
      "Epoch 48/100\n",
      "1/1 [==============================] - 0s 18ms/step - loss: 0.5489\n",
      "Epoch 49/100\n",
      "1/1 [==============================] - 0s 21ms/step - loss: 0.5375\n",
      "Epoch 50/100\n",
      "1/1 [==============================] - 0s 22ms/step - loss: 0.5265\n",
      "Epoch 51/100\n",
      "1/1 [==============================] - 0s 17ms/step - loss: 0.5156\n",
      "Epoch 52/100\n",
      "1/1 [==============================] - 0s 18ms/step - loss: 0.5050\n",
      "Epoch 53/100\n",
      "1/1 [==============================] - 0s 23ms/step - loss: 0.4946\n",
      "Epoch 54/100\n",
      "1/1 [==============================] - 0s 23ms/step - loss: 0.4844\n",
      "Epoch 55/100\n",
      "1/1 [==============================] - 0s 26ms/step - loss: 0.4745\n",
      "Epoch 56/100\n",
      "1/1 [==============================] - 0s 22ms/step - loss: 0.4647\n",
      "Epoch 57/100\n",
      "1/1 [==============================] - 0s 18ms/step - loss: 0.4552\n",
      "Epoch 58/100\n",
      "1/1 [==============================] - 0s 26ms/step - loss: 0.4458\n",
      "Epoch 59/100\n",
      "1/1 [==============================] - 0s 20ms/step - loss: 0.4366\n",
      "Epoch 60/100\n",
      "1/1 [==============================] - 0s 8ms/step - loss: 0.4277\n",
      "Epoch 61/100\n",
      "1/1 [==============================] - 0s 10ms/step - loss: 0.4189\n",
      "Epoch 62/100\n",
      "1/1 [==============================] - 0s 18ms/step - loss: 0.4103\n",
      "Epoch 63/100\n",
      "1/1 [==============================] - 0s 29ms/step - loss: 0.4018\n",
      "Epoch 64/100\n",
      "1/1 [==============================] - 0s 30ms/step - loss: 0.3936\n",
      "Epoch 65/100\n",
      "1/1 [==============================] - 0s 12ms/step - loss: 0.3855\n",
      "Epoch 66/100\n",
      "1/1 [==============================] - 0s 16ms/step - loss: 0.3776\n",
      "Epoch 67/100\n",
      "1/1 [==============================] - 0s 13ms/step - loss: 0.3698\n",
      "Epoch 68/100\n",
      "1/1 [==============================] - 0s 8ms/step - loss: 0.3622\n",
      "Epoch 69/100\n",
      "1/1 [==============================] - 0s 9ms/step - loss: 0.3548\n",
      "Epoch 70/100\n",
      "1/1 [==============================] - 0s 14ms/step - loss: 0.3475\n",
      "Epoch 71/100\n",
      "1/1 [==============================] - 0s 14ms/step - loss: 0.3404\n",
      "Epoch 72/100\n",
      "1/1 [==============================] - 0s 19ms/step - loss: 0.3334\n",
      "Epoch 73/100\n",
      "1/1 [==============================] - 0s 16ms/step - loss: 0.3265\n",
      "Epoch 74/100\n",
      "1/1 [==============================] - 0s 10ms/step - loss: 0.3198\n",
      "Epoch 75/100\n",
      "1/1 [==============================] - 0s 19ms/step - loss: 0.3132\n",
      "Epoch 76/100\n",
      "1/1 [==============================] - 0s 14ms/step - loss: 0.3068\n",
      "Epoch 77/100\n",
      "1/1 [==============================] - 0s 15ms/step - loss: 0.3005\n",
      "Epoch 78/100\n",
      "1/1 [==============================] - 0s 12ms/step - loss: 0.2943\n",
      "Epoch 79/100\n",
      "1/1 [==============================] - 0s 14ms/step - loss: 0.2883\n",
      "Epoch 80/100\n",
      "1/1 [==============================] - 0s 21ms/step - loss: 0.2824\n",
      "Epoch 81/100\n",
      "1/1 [==============================] - 0s 17ms/step - loss: 0.2766\n",
      "Epoch 82/100\n",
      "1/1 [==============================] - 0s 8ms/step - loss: 0.2709\n",
      "Epoch 83/100\n",
      "1/1 [==============================] - 0s 11ms/step - loss: 0.2653\n",
      "Epoch 84/100\n",
      "1/1 [==============================] - 0s 23ms/step - loss: 0.2599\n",
      "Epoch 85/100\n",
      "1/1 [==============================] - 0s 13ms/step - loss: 0.2545\n",
      "Epoch 86/100\n",
      "1/1 [==============================] - 0s 21ms/step - loss: 0.2493\n",
      "Epoch 87/100\n",
      "1/1 [==============================] - 0s 15ms/step - loss: 0.2442\n",
      "Epoch 88/100\n",
      "1/1 [==============================] - 0s 17ms/step - loss: 0.2392\n",
      "Epoch 89/100\n",
      "1/1 [==============================] - 0s 21ms/step - loss: 0.2343\n",
      "Epoch 90/100\n",
      "1/1 [==============================] - 0s 27ms/step - loss: 0.2294\n",
      "Epoch 91/100\n",
      "1/1 [==============================] - 0s 22ms/step - loss: 0.2247\n",
      "Epoch 92/100\n",
      "1/1 [==============================] - 0s 21ms/step - loss: 0.2201\n",
      "Epoch 93/100\n",
      "1/1 [==============================] - 0s 20ms/step - loss: 0.2156\n",
      "Epoch 94/100\n",
      "1/1 [==============================] - 0s 21ms/step - loss: 0.2112\n",
      "Epoch 95/100\n",
      "1/1 [==============================] - 0s 19ms/step - loss: 0.2068\n",
      "Epoch 96/100\n",
      "1/1 [==============================] - 0s 21ms/step - loss: 0.2026\n",
      "Epoch 97/100\n",
      "1/1 [==============================] - 0s 17ms/step - loss: 0.1984\n",
      "Epoch 98/100\n",
      "1/1 [==============================] - 0s 17ms/step - loss: 0.1943\n",
      "Epoch 99/100\n",
      "1/1 [==============================] - 0s 21ms/step - loss: 0.1904\n",
      "Epoch 100/100\n",
      "1/1 [==============================] - 0s 19ms/step - loss: 0.1864\n"
     ]
    },
    {
     "data": {
      "text/plain": [
       "<keras.src.callbacks.History at 0x2682aa48d10>"
      ]
     },
     "execution_count": 6,
     "metadata": {},
     "output_type": "execute_result"
    }
   ],
   "source": [
    "model.fit(x, y, epochs=100)"
   ]
  },
  {
   "cell_type": "markdown",
   "metadata": {},
   "source": [
    "- Export the saved model"
   ]
  },
  {
   "cell_type": "code",
   "execution_count": 7,
   "metadata": {},
   "outputs": [
    {
     "name": "stdout",
     "output_type": "stream",
     "text": [
      "INFO:tensorflow:Assets written to: ./model\\assets\n"
     ]
    },
    {
     "name": "stderr",
     "output_type": "stream",
     "text": [
      "INFO:tensorflow:Assets written to: ./model\\assets\n"
     ]
    }
   ],
   "source": [
    "tf.saved_model.save(model, './model')"
   ]
  },
  {
   "cell_type": "markdown",
   "metadata": {},
   "source": [
    "- convert the model"
   ]
  },
  {
   "cell_type": "code",
   "execution_count": 8,
   "metadata": {},
   "outputs": [],
   "source": [
    "coverter = tf.lite.TFLiteConverter.from_saved_model('./model')\n"
   ]
  },
  {
   "cell_type": "markdown",
   "metadata": {},
   "source": [
    "- Post training quantization"
   ]
  },
  {
   "cell_type": "code",
   "execution_count": 10,
   "metadata": {},
   "outputs": [],
   "source": [
    "coverter.optimizations = [tf.lite.Optimize.DEFAULT]"
   ]
  },
  {
   "cell_type": "code",
   "execution_count": 11,
   "metadata": {},
   "outputs": [],
   "source": [
    "tflite_model = coverter.convert()"
   ]
  },
  {
   "cell_type": "markdown",
   "metadata": {},
   "source": [
    "- save the lite model"
   ]
  },
  {
   "cell_type": "code",
   "execution_count": 12,
   "metadata": {},
   "outputs": [
    {
     "data": {
      "text/plain": [
       "1084"
      ]
     },
     "execution_count": 12,
     "metadata": {},
     "output_type": "execute_result"
    }
   ],
   "source": [
    "tflite_model_file = pathlib.Path('./model/model.tflite')\n",
    "tflite_model_file.write_bytes(tflite_model)"
   ]
  },
  {
   "cell_type": "code",
   "execution_count": 13,
   "metadata": {},
   "outputs": [
    {
     "data": {
      "text/plain": [
       "1084"
      ]
     },
     "execution_count": 13,
     "metadata": {},
     "output_type": "execute_result"
    }
   ],
   "source": [
    "tflite_model_file = pathlib.Path('./model/quantized.tflite')\n",
    "tflite_model_file.write_bytes(tflite_model)"
   ]
  },
  {
   "cell_type": "markdown",
   "metadata": {},
   "source": [
    "- Load the TFlite model"
   ]
  },
  {
   "cell_type": "code",
   "execution_count": 14,
   "metadata": {},
   "outputs": [],
   "source": [
    "interpreter = tf.lite.Interpreter(model_content=tflite_model)\n",
    "interpreter.allocate_tensors()"
   ]
  },
  {
   "cell_type": "markdown",
   "metadata": {},
   "source": [
    "- Get input & output tensors"
   ]
  },
  {
   "cell_type": "code",
   "execution_count": 15,
   "metadata": {},
   "outputs": [],
   "source": [
    "input_details = interpreter.get_input_details()\n",
    "output_details = interpreter.get_output_details()"
   ]
  },
  {
   "cell_type": "markdown",
   "metadata": {},
   "source": [
    "- point the data to be used for testing and run the interpreter"
   ]
  },
  {
   "cell_type": "code",
   "execution_count": 16,
   "metadata": {},
   "outputs": [],
   "source": [
    "input_shape = input_details[0]['shape']\n",
    "inputs, outputs = [], []\n",
    "for _ in range(100):\n",
    "  input_data = np.array(np.random.random_sample(input_shape), dtype=np.float32)\n",
    "  interpreter.set_tensor(input_details[0]['index'], input_data)\n",
    "\n",
    "  interpreter.invoke()\n",
    "  tflite_results = interpreter.get_tensor(output_details[0]['index'])\n",
    "\n",
    "  # Test the TensorFlow model on random input data.\n",
    "  tf_results = model(tf.constant(input_data))\n",
    "  output_data = np.array(tf_results)\n",
    "  \n",
    "  inputs.append(input_data[0][0])\n",
    "  outputs.append(output_data[0][0])"
   ]
  },
  {
   "cell_type": "markdown",
   "metadata": {},
   "source": [
    "- Visualizing the model"
   ]
  },
  {
   "cell_type": "code",
   "execution_count": 17,
   "metadata": {},
   "outputs": [
    {
     "data": {
      "image/png": "[encoded data removed]",
      "text/plain": [
       "<Figure size 640x480 with 1 Axes>"
      ]
     },
     "metadata": {},
     "output_type": "display_data"
    }
   ],
   "source": [
    "plt.plot(inputs, outputs, 'r')\n",
    "plt.show()"
   ]
  }
 ],
 "metadata": {
  "kernelspec": {
   "display_name": "Python 3",
   "language": "python",
   "name": "python3"
  },
  "language_info": {
   "codemirror_mode": {
    "name": "ipython",
    "version": 3
   },
   "file_extension": ".py",
   "mimetype": "text/x-python",
   "name": "python",
   "nbconvert_exporter": "python",
   "pygments_lexer": "ipython3",
   "version": "3.11.0"
  }
 },
 "nbformat": 4,
 "nbformat_minor": 2
}
