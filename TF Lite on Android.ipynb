{
 "cells": [
  {
   "cell_type": "markdown",
   "metadata": {},
   "source": [
    "<b>Performing Inference</b>\n",
    "\n",
    "![Alt text](explanation_images/inference.png)"
   ]
  },
  {
   "cell_type": "markdown",
   "metadata": {},
   "source": [
    "<b>App Architechture</b>\n",
    "\n",
    "![Alt text](explanation_images/appArch.png)"
   ]
  },
  {
   "cell_type": "markdown",
   "metadata": {},
   "source": [
    "<b>Step 1: Set options of the interpreter</b>\n",
    "\n",
    "![Alt text](explanation_images/interpreterOptions.png)\n"
   ]
  },
  {
   "cell_type": "markdown",
   "metadata": {},
   "source": [
    "<b>Step 2: Prepeare the input</b>\n",
    "\n",
    "- Crop and scale \n",
    "\n",
    "- Resize the bitmap to 224*224\n",
    "- Convert bitmap to bytebuffer: pre allocate the memory  "
   ]
  },
  {
   "cell_type": "markdown",
   "metadata": {},
   "source": [
    "<b>Step 3: Perform inference</b>\n",
    "\n",
    "- Call the run method of interpretter\n",
    "\n",
    "- Use a priorityqueue to accumulate the results \n",
    "\n",
    "![Alt text](explanation_images/outputTensors.png)"
   ]
  },
  {
   "cell_type": "markdown",
   "metadata": {},
   "source": [
    "<b>Step 4: interpret results</b>\n",
    "\n",
    "- Rely on confidence scroe \n",
    "- Use threshold or minimum score"
   ]
  }
 ],
 "metadata": {
  "language_info": {
   "name": "python"
  }
 },
 "nbformat": 4,
 "nbformat_minor": 2
}
