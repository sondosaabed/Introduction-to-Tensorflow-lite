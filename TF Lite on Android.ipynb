{
 "cells": [
  {
   "cell_type": "markdown",
   "metadata": {},
   "source": [
    "<b>Performing Inference</b>\n",
    "\n",
    "![Alt text](explanation_images/inference.png)"
   ]
  },
  {
   "cell_type": "markdown",
   "metadata": {},
   "source": [
    "<b>App Architechture</b>\n",
    "\n",
    "![Alt text](explanation_images/appArch.png)"
   ]
  },
  {
   "cell_type": "markdown",
   "metadata": {},
   "source": [
    "<b>Step 1: Set options of the interpreter</b>\n",
    "\n",
    "![Alt text](explanation_images/interpreterOptions.png)\n"
   ]
  }
 ],
 "metadata": {
  "language_info": {
   "name": "python"
  }
 },
 "nbformat": 4,
 "nbformat_minor": 2
}
